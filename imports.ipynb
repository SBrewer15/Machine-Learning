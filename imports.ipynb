{
 "cells": [
  {
   "cell_type": "code",
   "execution_count": 7,
   "metadata": {},
   "outputs": [
    {
     "data": {
      "text/html": [
       "<style>.container {width:90% !important; } </style>"
      ],
      "text/plain": [
       "<IPython.core.display.HTML object>"
      ]
     },
     "metadata": {},
     "output_type": "display_data"
    }
   ],
   "source": [
    "from IPython.core.display import display, HTML\n",
    "display(HTML(\"<style>.container {width:90% !important; } </style>\"))"
   ]
  },
  {
   "cell_type": "code",
   "execution_count": 8,
   "metadata": {},
   "outputs": [],
   "source": [
    "# Export\n",
    "from IPython.lib.deepreload import reload as dreload\n",
    "import PIL, os, numpy as np, math, collections, threading, json, random, scipy, cv2\n",
    "import pandas as pd, pickle, sys, itertools, string, sys, re, datetime, time, shutil, copy\n",
    "import seaborn as sns, matplotlib\n",
    "import IPython,  sklearn, warnings, pdb\n",
    "import contextlib\n",
    "from abc import abstractmethod\n",
    "from glob import glob, iglob\n",
    "from concurrent.futures import ThreadPoolExecutor, ProcessPoolExecutor\n",
    "from itertools import chain\n",
    "from functools import partial"
   ]
  },
  {
   "cell_type": "code",
   "execution_count": 9,
   "metadata": {},
   "outputs": [],
   "source": [
    "# Export\n",
    "from collections import Iterable, Counter, OrderedDict\n",
    "\n",
    "from IPython.lib.display import FileLink\n",
    "from PIL import Image, ImageEnhance, ImageOps\n",
    "from sklearn import metrics, ensemble, preprocessing\n",
    "from operator import itemgetter, attrgetter\n",
    "from pathlib import Path\n",
    "from distutils.version import LooseVersion"
   ]
  },
  {
   "cell_type": "code",
   "execution_count": 10,
   "metadata": {},
   "outputs": [],
   "source": [
    "# Export\n",
    "import bcolz\n",
    "from pandas_summary import DataFrameSummary"
   ]
  },
  {
   "cell_type": "code",
   "execution_count": 11,
   "metadata": {},
   "outputs": [],
   "source": [
    "# Export\n",
    "\n",
    "import sklearn_pandas\n",
    "from isoweek import Week\n",
    "import graphviz"
   ]
  },
  {
   "cell_type": "code",
   "execution_count": 12,
   "metadata": {},
   "outputs": [],
   "source": [
    "# Export\n",
    "from matplotlib import pyplot as plt, rcParams, animation\n",
    "from ipywidgets import interact, interactive, fixed, widgets"
   ]
  },
  {
   "cell_type": "code",
   "execution_count": 13,
   "metadata": {},
   "outputs": [],
   "source": [
    "# Export\n",
    "matplotlib.rc('animation', html='html5')\n",
    "np.set_printoptions(precision=5, linewidth=110, suppress=True)"
   ]
  },
  {
   "cell_type": "code",
   "execution_count": 14,
   "metadata": {},
   "outputs": [],
   "source": [
    "# Export\n",
    "from ipykernel.kernelapp import IPKernelApp\n"
   ]
  },
  {
   "cell_type": "code",
   "execution_count": 15,
   "metadata": {},
   "outputs": [],
   "source": [
    "# Export\n",
    "def in_notebook(): return IPKernelApp.initialized()"
   ]
  },
  {
   "cell_type": "code",
   "execution_count": null,
   "metadata": {},
   "outputs": [],
   "source": []
  },
  {
   "cell_type": "code",
   "execution_count": 16,
   "metadata": {},
   "outputs": [],
   "source": [
    "# Export\n",
    "def in_ipynb():\n",
    "    try:\n",
    "        cls = get_ipython().__class__.__name__\n",
    "        return cls == 'ZMQInteractiveShell'\n",
    "    except NameError:\n",
    "        return False"
   ]
  },
  {
   "cell_type": "code",
   "execution_count": 17,
   "metadata": {},
   "outputs": [],
   "source": [
    "# Export\n",
    "import tqdm as tq\n",
    "from tqdm import tqdm_notebook, tnrange"
   ]
  },
  {
   "cell_type": "code",
   "execution_count": 18,
   "metadata": {},
   "outputs": [],
   "source": [
    "# Export\n",
    "def clear_tqdm():\n",
    "    inst = getattr(tq.tqdm, '_instances', None)\n",
    "    if not inst: return\n",
    "    try:\n",
    "        for i in range(len(inst)): inst.pop().close()\n",
    "    except Exception:\n",
    "        pass\n",
    "\n",
    "if in_notebook():\n",
    "    def tqdm(*args, **kwargs):\n",
    "        clear_tqdm()\n",
    "        return tq.tqdm(*args, file=sys.stdout, **kwargs)\n",
    "    def trange(*args, **kwargs):\n",
    "        clear_tqdm()\n",
    "        return tq.trange(*args, file=sys.stdout, **kwargs)\n",
    "else:\n",
    "    from tqdm import tqdm, trange\n",
    "    tnrange=trange\n",
    "    tqdm_notebook=tqdm"
   ]
  },
  {
   "cell_type": "code",
   "execution_count": null,
   "metadata": {},
   "outputs": [],
   "source": []
  },
  {
   "cell_type": "code",
   "execution_count": 19,
   "metadata": {},
   "outputs": [
    {
     "name": "stdout",
     "output_type": "stream",
     "text": [
      "Converted imports.ipynb to exp\\nb_imports.py\n"
     ]
    }
   ],
   "source": [
    "!python notebook2script.py imports.ipynb"
   ]
  },
  {
   "cell_type": "code",
   "execution_count": null,
   "metadata": {},
   "outputs": [],
   "source": []
  }
 ],
 "metadata": {
  "kernelspec": {
   "display_name": "Python 3",
   "language": "python",
   "name": "python3"
  },
  "language_info": {
   "codemirror_mode": {
    "name": "ipython",
    "version": 3
   },
   "file_extension": ".py",
   "mimetype": "text/x-python",
   "name": "python",
   "nbconvert_exporter": "python",
   "pygments_lexer": "ipython3",
   "version": "3.7.7"
  }
 },
 "nbformat": 4,
 "nbformat_minor": 4
}
